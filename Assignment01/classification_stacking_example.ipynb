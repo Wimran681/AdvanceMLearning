{
 "cells": [
  {
   "cell_type": "markdown",
   "metadata": {},
   "source": [
    "### Stacking algorithm -> classification models"
   ]
  },
  {
   "cell_type": "code",
   "execution_count": 12,
   "metadata": {},
   "outputs": [],
   "source": [
    "import numpy as np\n",
    "import pandas as pd\n",
    "import matplotlib.pyplot as plt\n",
    "from sklearn.model_selection import train_test_split\n",
    "from sklearn.metrics import mean_absolute_error, mean_squared_error, r2_score\n",
    "from sklearn.preprocessing import StandardScaler, MinMaxScaler\n",
    "import xgboost as xgb\n",
    "import catboost as cb\n",
    "import lightgbm as lgb\n",
    "from sklearn.linear_model import LogisticRegression\n",
    "from sklearn.ensemble import RandomForestClassifier\n",
    "from sklearn.svm import SVC\n",
    "from sklearn.neighbors import KNeighborsClassifier\n",
    "from sklearn.metrics import accuracy_score, precision_score, recall_score, f1_score, roc_auc_score\n",
    "import seaborn as sns\n",
    "from imblearn.under_sampling import TomekLinks\n",
    "from sklearn.ensemble import IsolationForest\n",
    "from scipy import stats\n",
    "from sklearn.preprocessing import label_binarize"
   ]
  },
  {
   "cell_type": "code",
   "execution_count": 13,
   "metadata": {},
   "outputs": [],
   "source": [
    "df = pd.read_csv(\"housing_classification_processed.csv\")"
   ]
  },
  {
   "cell_type": "code",
   "execution_count": 14,
   "metadata": {},
   "outputs": [],
   "source": [
    "# X/y split etc.\n",
    "target = \"grade_category\"\n",
    "\n",
    "# catboost expects data either in int or str, we convert it to integer\n",
    "df['floors'] = df['floors'].astype('int64')\n",
    "\n",
    "# we loose some decimal bathrooms but it should not be a problem\n",
    "df['bathrooms'] = df['bathrooms'].astype('int64')\n",
    "\n",
    "# categorical features need to be separated for certain algorithms, like CatBoost\n",
    "categorical_features = ['bedrooms', 'floors', 'view']\n",
    "\n",
    "X = df.drop(columns=[target])\n",
    "y = df[target]\n",
    "\n",
    "X_train, X_test, y_train, y_test = train_test_split(X, y, test_size=0.2)\n",
    "\n",
    "# SCALING => some of the algorithms require this\n",
    "scaler = StandardScaler()\n",
    "\n",
    "X_train_scaled = scaler.fit_transform(X_train)\n",
    "X_test_scaled = scaler.transform(X_test)"
   ]
  },
  {
   "cell_type": "markdown",
   "metadata": {},
   "source": [
    "### Stacking Classifier -> we use XGBoost + RF + LGBM again"
   ]
  },
  {
   "cell_type": "code",
   "execution_count": 15,
   "metadata": {},
   "outputs": [
    {
     "name": "stdout",
     "output_type": "stream",
     "text": [
      "[LightGBM] [Info] Auto-choosing row-wise multi-threading, the overhead of testing was 0.000763 seconds.\n",
      "You can set `force_row_wise=true` to remove the overhead.\n",
      "And if memory is not enough, you can set `force_col_wise=true`.\n",
      "[LightGBM] [Info] Total Bins 445\n",
      "[LightGBM] [Info] Number of data points in the train set: 13484, number of used features: 6\n",
      "[LightGBM] [Info] Start training from score -2.226498\n",
      "[LightGBM] [Info] Start training from score -0.821648\n",
      "[LightGBM] [Info] Start training from score -0.940993\n",
      "[LightGBM] [Info] Start training from score -2.778241\n",
      "[LightGBM] [Info] Auto-choosing row-wise multi-threading, the overhead of testing was 0.000564 seconds.\n",
      "You can set `force_row_wise=true` to remove the overhead.\n",
      "And if memory is not enough, you can set `force_col_wise=true`.\n",
      "[LightGBM] [Info] Total Bins 437\n",
      "[LightGBM] [Info] Number of data points in the train set: 10787, number of used features: 6\n",
      "[LightGBM] [Info] Start training from score -2.226479\n",
      "[LightGBM] [Info] Start training from score -0.821672\n",
      "[LightGBM] [Info] Start training from score -0.941117\n",
      "[LightGBM] [Info] Start training from score -2.777328\n",
      "[LightGBM] [Info] Auto-choosing row-wise multi-threading, the overhead of testing was 0.000205 seconds.\n",
      "You can set `force_row_wise=true` to remove the overhead.\n",
      "And if memory is not enough, you can set `force_col_wise=true`.\n",
      "[LightGBM] [Info] Total Bins 440\n",
      "[LightGBM] [Info] Number of data points in the train set: 10787, number of used features: 6\n",
      "[LightGBM] [Info] Start training from score -2.226479\n",
      "[LightGBM] [Info] Start training from score -0.821461\n",
      "[LightGBM] [Info] Start training from score -0.941117\n",
      "[LightGBM] [Info] Start training from score -2.778819\n",
      "[LightGBM] [Info] Auto-choosing row-wise multi-threading, the overhead of testing was 0.000186 seconds.\n",
      "You can set `force_row_wise=true` to remove the overhead.\n",
      "And if memory is not enough, you can set `force_col_wise=true`.\n",
      "[LightGBM] [Info] Total Bins 439\n",
      "[LightGBM] [Info] Number of data points in the train set: 10787, number of used features: 6\n",
      "[LightGBM] [Info] Start training from score -2.226479\n",
      "[LightGBM] [Info] Start training from score -0.821672\n",
      "[LightGBM] [Info] Start training from score -0.940879\n",
      "[LightGBM] [Info] Start training from score -2.778819\n",
      "[LightGBM] [Info] Auto-choosing row-wise multi-threading, the overhead of testing was 0.000220 seconds.\n",
      "You can set `force_row_wise=true` to remove the overhead.\n",
      "And if memory is not enough, you can set `force_col_wise=true`.\n",
      "[LightGBM] [Info] Total Bins 440\n",
      "[LightGBM] [Info] Number of data points in the train set: 10787, number of used features: 6\n",
      "[LightGBM] [Info] Start training from score -2.226479\n",
      "[LightGBM] [Info] Start training from score -0.821672\n",
      "[LightGBM] [Info] Start training from score -0.940879\n",
      "[LightGBM] [Info] Start training from score -2.778819\n",
      "[LightGBM] [Info] Auto-choosing row-wise multi-threading, the overhead of testing was 0.000178 seconds.\n",
      "You can set `force_row_wise=true` to remove the overhead.\n",
      "And if memory is not enough, you can set `force_col_wise=true`.\n",
      "[LightGBM] [Info] Total Bins 438\n",
      "[LightGBM] [Info] Number of data points in the train set: 10788, number of used features: 6\n",
      "[LightGBM] [Info] Start training from score -2.226572\n",
      "[LightGBM] [Info] Start training from score -0.821765\n",
      "[LightGBM] [Info] Start training from score -0.940972\n",
      "[LightGBM] [Info] Start training from score -2.777421\n",
      "\n",
      "Accuracy 0.7019572953736655\n"
     ]
    }
   ],
   "source": [
    "from sklearn.ensemble import StackingClassifier\n",
    "\n",
    "# 'Random Forest': RandomForestRegressor(),\n",
    "# 'XGBoost': xgb.XGBRegressor(enable_categorical=True, objective='reg:squarederror'),\n",
    "# 'LightGBM': lgb.LGBMRegressor(objective='regression')\n",
    "\n",
    "# Best Parameters: {'learning_rate': 0.06142857142857143, 'iterations': 600.0, 'depth': 5}\n",
    "\n",
    "# meta model is the judge or optimizer of the stacking algorithm\n",
    "# => it assigns weights to the models above based on their performance\n",
    "#meta_model = LogisticRegression()\n",
    "meta_model = RandomForestClassifier()\n",
    "\n",
    "# stacking regression algorithm\n",
    "stacking_model = StackingClassifier(\n",
    "    estimators=[('xgb', xgb.XGBClassifier(enable_categorical=True, objective='multi:softprobar', num_class=len(X.columns))),\n",
    "                ('CatBoost-optimized', cb.CatBoostClassifier(iterations=600, learning_rate=0.06142857142857143, depth=5, verbose=0)),\n",
    "                ('randomforest', RandomForestClassifier(n_estimators=100)),\n",
    "                ('lgbm', lgb.LGBMClassifier(objective='multiclass'))\n",
    "                ],\n",
    "    final_estimator = meta_model,\n",
    "    cv=5\n",
    ")\n",
    "\n",
    "# fit the model\n",
    "stacking_model.fit(X_train, y_train)\n",
    "\n",
    "# test predictions and metrics\n",
    "predictions = stacking_model.predict(X_test)\n",
    "\n",
    "accuracy = stacking_model.score(X_test, y_test)\n",
    "print()\n",
    "print(f\"Accuracy {accuracy}\")\n"
   ]
  },
  {
   "cell_type": "markdown",
   "metadata": {},
   "source": [
    "More Anayalsis\n"
   ]
  },
  {
   "cell_type": "code",
   "execution_count": null,
   "metadata": {},
   "outputs": [],
   "source": [
    "\n",
    "# we used LogisticRegression as meta model and XGBClassifier, CatBoostClassifier, RandomForestClassifier and LGBMClassifier were stacking in model list\n",
    "# According to Accuracy value, stacking is slightly better than benchmarking"
   ]
  },
  {
   "cell_type": "code",
   "execution_count": null,
   "metadata": {},
   "outputs": [],
   "source": [
    "# tried Random Forest as meta model with the same stacked models list\n",
    "# Accuracy 0.7019572953736655 is almost the same"
   ]
  },
  {
   "cell_type": "code",
   "execution_count": null,
   "metadata": {},
   "outputs": [],
   "source": [
    "# According to accuracy I also saw Catboot optimized algo also good one, hut Random would be the best option\n",
    "# Because accuracy is better then this as compared with other model by using Staking approach."
   ]
  }
 ],
 "metadata": {
  "kernelspec": {
   "display_name": ".venv",
   "language": "python",
   "name": "python3"
  },
  "language_info": {
   "codemirror_mode": {
    "name": "ipython",
    "version": 3
   },
   "file_extension": ".py",
   "mimetype": "text/x-python",
   "name": "python",
   "nbconvert_exporter": "python",
   "pygments_lexer": "ipython3",
   "version": "3.11.9"
  }
 },
 "nbformat": 4,
 "nbformat_minor": 2
}

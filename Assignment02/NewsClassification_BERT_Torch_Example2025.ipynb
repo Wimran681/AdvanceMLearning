{
 "cells": [
  {
   "cell_type": "markdown",
   "metadata": {
    "id": "a-NFZQPePR5m"
   },
   "source": [
    "# Using BERT as the base model for NLP classification (transfer learning)"
   ]
  },
  {
   "cell_type": "markdown",
   "metadata": {
    "id": "yjA9u0mcPM_2"
   },
   "source": [
    "### NOTE! You'll need GPU for this notebook, even the smallest version of the BERT-model is rather heavy to train!"
   ]
  },
  {
   "cell_type": "markdown",
   "metadata": {
    "id": "ewWqV8_iR1a-"
   },
   "source": [
    "# For my own dataset but its very similar dataset that we experinced in class"
   ]
  },
  {
   "cell_type": "code",
   "execution_count": 105,
   "metadata": {},
   "outputs": [],
   "source": [
    "# Converting Xlsx file into CVC file\n",
    "# I download this file from this url https://data.mendeley.com/datasets/pk5vs5wjxm/1?utm_source=chatgpt.com\n",
    "\n",
    "\n",
    "# Load the Excel file\n",
    "#xlsx_file = \"NewsRecommendationDataset.xlsx\"\n",
    "# Convert the first sheet to CSV\n",
    "# df = pd.read_excel(xlsx_file, sheet_name=0)\n",
    "# df.to_csv(\"News_Recommended.csv\", index=False)"
   ]
  },
  {
   "cell_type": "code",
   "execution_count": null,
   "metadata": {},
   "outputs": [],
   "source": [
    "# I did experiments by changing the parameters for example Epochs etc but I got best results are as follows\n",
    "# These two plots show the training and validation performance of a model over 30 epochs:\n",
    "# Train Loss and Validation Loss both decrease steadily, showing that the model is learning and generalizing.\n",
    "# There's a small gap between them, indicating minimal overfitting.\n",
    "# The loss decreases consistently, suggesting stable training.\n",
    "\n",
    "# Training Accuracy rises quickly and approaches 1.0 (near perfect).\n",
    "# Validation Accuracy also increases and plateaus around 0.95, showing the model is performing well on unseen data.\n",
    "# The close alignment of both lines suggests the model is not overfitting and generalizes well.\n",
    "# Overall, This is a well-trained model with good generalization and no major signs of overfitting."
   ]
  },
  {
   "cell_type": "code",
   "execution_count": null,
   "metadata": {},
   "outputs": [],
   "source": [
    "# Economy\n",
    "# Precision: 0.87 → Some false positives. Recall: 0.96 → Most actual Economy articles were correctly identified. and\n",
    "#F1-score: 0.92 → Strong overall performance, slightly lower precision.\n",
    "\n",
    "# Environment\n",
    "# Precision: 0.97 → Very few false positives. Recall: 1.00 → All Environment articles were correctly classified.\n",
    "# F1-score: 0.99 → Excellent classification.\n",
    "\n",
    "# Politics\n",
    "# Precision: 1.00 → No false positives at all. Recall: 0.89 → A few Politics articles were misclassified.\n",
    "# F1-score: 0.94 → High overall performance, recall could be improved.\n",
    "\n",
    "# Overall Performance\n",
    "# Accuracy: 0.95 → 95% of total predictions were correct.\n",
    "#  Macro & Weighted Averages: All metrics are at 0.95 → Balanced performance across all classes, even with class size differences."
   ]
  },
  {
   "cell_type": "code",
   "execution_count": null,
   "metadata": {},
   "outputs": [],
   "source": [
    "# Confusion Matrix\n",
    "# The classifier performs very well overall. It does best on Politics and Economy.\n",
    "# The main confusion is misclassifying Economy as Environment (4 times).\n",
    "# Environment: Precision 87.1%, Recall 96.4%, F1 Score 91.5%\n",
    "# Politics: Precision 97.1%, Recall 100%, F1 Score 98.5%\n",
    "# Economy: Precision 100%, Recall 89.5%, F1 Score 94.4%"
   ]
  },
  {
   "cell_type": "markdown",
   "metadata": {},
   "source": [
    "# Overall my thoughts on comparisons with BERT TORCH or ML / Naive-Bayes"
   ]
  },
  {
   "cell_type": "code",
   "execution_count": null,
   "metadata": {},
   "outputs": [],
   "source": [
    "# Here’s a brief comparison summary between Naive Bayes (ML) and BERT (Torch):\n",
    "\n",
    "# Overall Accuracy: BERT performs slightly better (95%) than Naive Bayes (93%), showing improved generalization and understanding.\n",
    "# Class-wise Performance: BERT has higher precision and recall in critical classes like Politics and Economy, especially in precision for Politics (1.00 vs. 0.97).\n",
    "# Macro/Weighted Averages: BERT consistently outperforms Naive Bayes across all averaged metrics (0.95 vs. 0.93), reflecting better balance and robustness."
   ]
  },
  {
   "cell_type": "code",
   "execution_count": 106,
   "metadata": {
    "id": "go8fw0byPHX5"
   },
   "outputs": [],
   "source": [
    "# first step: Connect your Google Drive into this notebook\n",
    "# tip: use the file explorer on the left, and click the Google Drive-icon to connect\n",
    "data_file_path = \"News_Recommended.csv\""
   ]
  },
  {
   "cell_type": "code",
   "execution_count": 107,
   "metadata": {
    "id": "3aIbrfztRpMN"
   },
   "outputs": [],
   "source": [
    "# load the data to test if it works at all\n",
    "import pandas as pd\n",
    "df = pd.read_csv(data_file_path)"
   ]
  },
  {
   "cell_type": "code",
   "execution_count": 108,
   "metadata": {
    "colab": {
     "base_uri": "https://localhost:8080/",
     "height": 195
    },
    "id": "FdRMk3B0RsTo",
    "outputId": "f8024ab6-0bf7-4f37-e23c-d69aa0ab9f35"
   },
   "outputs": [
    {
     "data": {
      "text/html": [
       "<div>\n",
       "<style scoped>\n",
       "    .dataframe tbody tr th:only-of-type {\n",
       "        vertical-align: middle;\n",
       "    }\n",
       "\n",
       "    .dataframe tbody tr th {\n",
       "        vertical-align: top;\n",
       "    }\n",
       "\n",
       "    .dataframe thead th {\n",
       "        text-align: right;\n",
       "    }\n",
       "</style>\n",
       "<table border=\"1\" class=\"dataframe\">\n",
       "  <thead>\n",
       "    <tr style=\"text-align: right;\">\n",
       "      <th></th>\n",
       "      <th>headlines</th>\n",
       "      <th>newspaper</th>\n",
       "      <th>description</th>\n",
       "      <th>catagories</th>\n",
       "      <th>link</th>\n",
       "    </tr>\n",
       "  </thead>\n",
       "  <tbody>\n",
       "    <tr>\n",
       "      <th>0</th>\n",
       "      <td>MV Abdullah leaves UAE for last leg of homewar...</td>\n",
       "      <td>The Daily Star</td>\n",
       "      <td>The ship MV Abdullah, with 23 Bangladeshi crew...</td>\n",
       "      <td>Business</td>\n",
       "      <td>https://www.thedailystar.net/Health</td>\n",
       "    </tr>\n",
       "    <tr>\n",
       "      <th>1</th>\n",
       "      <td>Heatwave: After fiery April, milder May beckons</td>\n",
       "      <td>The Daily Star</td>\n",
       "      <td>Relief from a severe heatwave expected in May ...</td>\n",
       "      <td>Weather</td>\n",
       "      <td>https://www.thedailystar.net/Health</td>\n",
       "    </tr>\n",
       "    <tr>\n",
       "      <th>2</th>\n",
       "      <td>Bar pharmas from raising medicine prices at will</td>\n",
       "      <td>The Daily Star</td>\n",
       "      <td>High Court orders measures to prevent pharmace...</td>\n",
       "      <td>Healthcare</td>\n",
       "      <td>https://www.thedailystar.net/Health</td>\n",
       "    </tr>\n",
       "  </tbody>\n",
       "</table>\n",
       "</div>"
      ],
      "text/plain": [
       "                                           headlines       newspaper  \\\n",
       "0  MV Abdullah leaves UAE for last leg of homewar...  The Daily Star   \n",
       "1    Heatwave: After fiery April, milder May beckons  The Daily Star   \n",
       "2   Bar pharmas from raising medicine prices at will  The Daily Star   \n",
       "\n",
       "                                         description  catagories  \\\n",
       "0  The ship MV Abdullah, with 23 Bangladeshi crew...    Business   \n",
       "1  Relief from a severe heatwave expected in May ...     Weather   \n",
       "2  High Court orders measures to prevent pharmace...  Healthcare   \n",
       "\n",
       "                                      link  \n",
       "0  https://www.thedailystar.net/Health      \n",
       "1  https://www.thedailystar.net/Health      \n",
       "2  https://www.thedailystar.net/Health      "
      ]
     },
     "execution_count": 108,
     "metadata": {},
     "output_type": "execute_result"
    }
   ],
   "source": [
    "# quick check, does the data load?\n",
    "df.head(3)"
   ]
  },
  {
   "cell_type": "markdown",
   "metadata": {
    "id": "lVpzoymHU4Wl"
   },
   "source": [
    "## Step 1.5 - Do the same preprocessing as in the Naive-Bayes -example"
   ]
  },
  {
   "cell_type": "code",
   "execution_count": 109,
   "metadata": {
    "id": "vNEY-2g2U7mN"
   },
   "outputs": [],
   "source": [
    "# combine headline with short_description (to have a bit more data)\n",
    "df['headlines'] = df['headlines'] + \" - \" + df['description']"
   ]
  },
  {
   "cell_type": "code",
   "execution_count": 110,
   "metadata": {
    "id": "c5pCExRjU-lu"
   },
   "outputs": [],
   "source": [
    "# select only \"category\" and \"headline\" columns\n",
    "# category is going to be the target\n",
    "df = df[['catagories', 'headlines']]"
   ]
  },
  {
   "cell_type": "code",
   "execution_count": 111,
   "metadata": {
    "id": "idXl9KN5U_y9"
   },
   "outputs": [],
   "source": [
    "# DOUBLE-CHECK THE ORDER AFTER TARGET VARIABLE HAS BEEN ENCODED TO INTEGERS\n",
    "TEXT_LABELS = ['Environment', 'Politics', 'Economy']"
   ]
  },
  {
   "cell_type": "code",
   "execution_count": 112,
   "metadata": {
    "id": "fx8UmLKtVJCm"
   },
   "outputs": [],
   "source": [
    "# List of categories to filter\n",
    "categories_to_filter = TEXT_LABELS\n",
    "\n",
    "# Filter rows where category is in the list\n",
    "df = df[df['catagories'].isin(categories_to_filter)]"
   ]
  },
  {
   "cell_type": "code",
   "execution_count": 113,
   "metadata": {
    "colab": {
     "base_uri": "https://localhost:8080/",
     "height": 206
    },
    "id": "YdGKA-e1VPul",
    "outputId": "4def6df3-053f-4e9f-e7d9-7005b844e39f"
   },
   "outputs": [
    {
     "data": {
      "text/html": [
       "<div>\n",
       "<style scoped>\n",
       "    .dataframe tbody tr th:only-of-type {\n",
       "        vertical-align: middle;\n",
       "    }\n",
       "\n",
       "    .dataframe tbody tr th {\n",
       "        vertical-align: top;\n",
       "    }\n",
       "\n",
       "    .dataframe thead th {\n",
       "        text-align: right;\n",
       "    }\n",
       "</style>\n",
       "<table border=\"1\" class=\"dataframe\">\n",
       "  <thead>\n",
       "    <tr style=\"text-align: right;\">\n",
       "      <th></th>\n",
       "      <th>catagories</th>\n",
       "      <th>headlines</th>\n",
       "    </tr>\n",
       "  </thead>\n",
       "  <tbody>\n",
       "    <tr>\n",
       "      <th>3</th>\n",
       "      <td>Economy</td>\n",
       "      <td>IMF Loan: Govt may miss two key targets set fo...</td>\n",
       "    </tr>\n",
       "    <tr>\n",
       "      <th>7</th>\n",
       "      <td>Economy</td>\n",
       "      <td>Will BSEC ever learn from its missteps? - Anal...</td>\n",
       "    </tr>\n",
       "    <tr>\n",
       "      <th>12</th>\n",
       "      <td>Economy</td>\n",
       "      <td>How do we protect the worst victims of inflati...</td>\n",
       "    </tr>\n",
       "    <tr>\n",
       "      <th>13</th>\n",
       "      <td>Economy</td>\n",
       "      <td>Familiar risks haunt Chattogram markets - Iden...</td>\n",
       "    </tr>\n",
       "    <tr>\n",
       "      <th>16</th>\n",
       "      <td>Economy</td>\n",
       "      <td>IMF suggestions for Bangladesh - IMF provides ...</td>\n",
       "    </tr>\n",
       "  </tbody>\n",
       "</table>\n",
       "</div>"
      ],
      "text/plain": [
       "   catagories                                          headlines\n",
       "3     Economy  IMF Loan: Govt may miss two key targets set fo...\n",
       "7     Economy  Will BSEC ever learn from its missteps? - Anal...\n",
       "12    Economy  How do we protect the worst victims of inflati...\n",
       "13    Economy  Familiar risks haunt Chattogram markets - Iden...\n",
       "16    Economy  IMF suggestions for Bangladesh - IMF provides ..."
      ]
     },
     "execution_count": 113,
     "metadata": {},
     "output_type": "execute_result"
    }
   ],
   "source": [
    "# final check, is the data otherwise good to go?\n",
    "df.head()"
   ]
  },
  {
   "cell_type": "code",
   "execution_count": 114,
   "metadata": {
    "colab": {
     "base_uri": "https://localhost:8080/"
    },
    "id": "9UeBIGjPYrxG",
    "outputId": "69974e89-91b7-4ad1-fb3a-56b611fecdf3"
   },
   "outputs": [
    {
     "name": "stderr",
     "output_type": "stream",
     "text": [
      "[nltk_data] Downloading package stopwords to\n",
      "[nltk_data]     /Users/waseemimran/nltk_data...\n",
      "[nltk_data]   Package stopwords is already up-to-date!\n"
     ]
    }
   ],
   "source": [
    "# this phase usually takes time, since its made by CPU\n",
    "# might be a better idea to save the processed version to another csv-file\n",
    "# import nltk for stopword removal\n",
    "import nltk\n",
    "from nltk.corpus import stopwords\n",
    "from nltk.tokenize import word_tokenize\n",
    "import multiprocessing as mp\n",
    "\n",
    "# remove stopwords\n",
    "nltk.download('stopwords')\n",
    "\n",
    "# define a function which we can apply to our data\n",
    "# => remove English stopwords (filler words)\n",
    "def remove_stopwords(text):\n",
    "    words = text.split()\n",
    "    words = [word for word in words if word.lower() not in stopwords.words('english')]\n",
    "    return ' '.join(words)\n",
    "\n",
    "# apply the function to the 'headline' column\n",
    "df['headlines'] = df['headlines'].apply(remove_stopwords)"
   ]
  },
  {
   "cell_type": "code",
   "execution_count": 115,
   "metadata": {
    "colab": {
     "base_uri": "https://localhost:8080/",
     "height": 206
    },
    "id": "GupgvItyZWG8",
    "outputId": "916835ca-bdef-4d9f-cbb9-08850b3427f5"
   },
   "outputs": [
    {
     "data": {
      "text/html": [
       "<div>\n",
       "<style scoped>\n",
       "    .dataframe tbody tr th:only-of-type {\n",
       "        vertical-align: middle;\n",
       "    }\n",
       "\n",
       "    .dataframe tbody tr th {\n",
       "        vertical-align: top;\n",
       "    }\n",
       "\n",
       "    .dataframe thead th {\n",
       "        text-align: right;\n",
       "    }\n",
       "</style>\n",
       "<table border=\"1\" class=\"dataframe\">\n",
       "  <thead>\n",
       "    <tr style=\"text-align: right;\">\n",
       "      <th></th>\n",
       "      <th>catagories</th>\n",
       "      <th>headlines</th>\n",
       "    </tr>\n",
       "  </thead>\n",
       "  <tbody>\n",
       "    <tr>\n",
       "      <th>3</th>\n",
       "      <td>Economy</td>\n",
       "      <td>IMF Loan: Govt may miss two key targets set fo...</td>\n",
       "    </tr>\n",
       "    <tr>\n",
       "      <th>7</th>\n",
       "      <td>Economy</td>\n",
       "      <td>BSEC ever learn missteps? - Analysts question ...</td>\n",
       "    </tr>\n",
       "    <tr>\n",
       "      <th>12</th>\n",
       "      <td>Economy</td>\n",
       "      <td>protect worst victims inflation? - Raises ques...</td>\n",
       "    </tr>\n",
       "    <tr>\n",
       "      <th>13</th>\n",
       "      <td>Economy</td>\n",
       "      <td>Familiar risks haunt Chattogram markets - Iden...</td>\n",
       "    </tr>\n",
       "    <tr>\n",
       "      <th>16</th>\n",
       "      <td>Economy</td>\n",
       "      <td>IMF suggestions Bangladesh - IMF provides reco...</td>\n",
       "    </tr>\n",
       "  </tbody>\n",
       "</table>\n",
       "</div>"
      ],
      "text/plain": [
       "   catagories                                          headlines\n",
       "3     Economy  IMF Loan: Govt may miss two key targets set fo...\n",
       "7     Economy  BSEC ever learn missteps? - Analysts question ...\n",
       "12    Economy  protect worst victims inflation? - Raises ques...\n",
       "13    Economy  Familiar risks haunt Chattogram markets - Iden...\n",
       "16    Economy  IMF suggestions Bangladesh - IMF provides reco..."
      ]
     },
     "execution_count": 115,
     "metadata": {},
     "output_type": "execute_result"
    }
   ],
   "source": [
    "df.head()"
   ]
  },
  {
   "cell_type": "markdown",
   "metadata": {
    "id": "M1zJ1pPRR789"
   },
   "source": [
    "## Step 2: All needed Torch and BERT -imports"
   ]
  },
  {
   "cell_type": "code",
   "execution_count": 116,
   "metadata": {
    "colab": {
     "base_uri": "https://localhost:8080/"
    },
    "id": "_oNpiE_1Rsj9",
    "outputId": "3155d64c-101c-4ad1-f8db-008972796fb7"
   },
   "outputs": [
    {
     "name": "stdout",
     "output_type": "stream",
     "text": [
      "Using device: cpu\n"
     ]
    }
   ],
   "source": [
    "# import Torch + neural network features\n",
    "import torch\n",
    "import torch.nn as nn\n",
    "import torch.optim as optim\n",
    "from torch.utils.data import DataLoader, Dataset\n",
    "\n",
    "# import HuggingFace transformers, BERT imports\n",
    "from transformers import BertTokenizer, BertForSequenceClassification\n",
    "from transformers import AutoModel, AutoModelForSequenceClassification\n",
    "from transformers.modeling_outputs import SequenceClassifierOutput\n",
    "\n",
    "# rest of the needed imports\n",
    "from sklearn.model_selection import train_test_split\n",
    "from sklearn.preprocessing import LabelEncoder\n",
    "from sklearn.metrics import accuracy_score, classification_report\n",
    "from sklearn.metrics import confusion_matrix\n",
    "from sklearn.metrics import roc_auc_score\n",
    "\n",
    "# import matplotlib for plotting\n",
    "import matplotlib.pyplot as plt\n",
    "import seaborn as sns\n",
    "import numpy as np\n",
    "\n",
    "# enable Torch to use GPU if its available, default back to CPU if not available\n",
    "device = torch.device(\"cuda\" if torch.cuda.is_available() else \"cpu\")\n",
    "\n",
    "# check which device is used\n",
    "print(f\"Using device: {device}\")\n",
    "\n",
    "# Remember: you want to use cuda (GPU) for this\n",
    "# if you run out of free GPU credits, you can try CPU but with a very small dataset\n",
    "# = less than 2000 rows TOTAL for training"
   ]
  },
  {
   "cell_type": "markdown",
   "metadata": {
    "id": "Y2Bfq7DFWB4G"
   },
   "source": [
    "## Step 3: Define the dataset wrapper + training -function for Torch"
   ]
  },
  {
   "cell_type": "code",
   "execution_count": 117,
   "metadata": {
    "id": "wZ0l_-9XWE1i"
   },
   "outputs": [],
   "source": [
    "# Dataset class for text data, to be used by Torch training code\n",
    "# we need this data wrapper in order to finetune the BERT Model\n",
    "class TextDataset(Dataset):\n",
    "    # initialize the dataset: texts = training data, labels = target values\n",
    "    # which tokenizer to use for this data and what is the maximum length of a single\n",
    "    # piece of data (512)\n",
    "    def __init__(self, texts, labels, tokenizer, max_length=512):\n",
    "        self.texts = texts\n",
    "        self.labels = labels\n",
    "        self.tokenizer = tokenizer\n",
    "        self.max_length = max_length\n",
    "\n",
    "    def __len__(self):\n",
    "        return len(self.texts)\n",
    "\n",
    "    def __getitem__(self, idx):\n",
    "        encoding = self.tokenizer(\n",
    "            self.texts[idx],\n",
    "            truncation=True,\n",
    "            padding='max_length',\n",
    "            max_length=self.max_length,\n",
    "            return_tensors='pt'\n",
    "        )\n",
    "        return {\n",
    "            'input_ids': encoding['input_ids'].squeeze(0),\n",
    "            'attention_mask': encoding['attention_mask'].squeeze(0),\n",
    "            'labels': torch.tensor(self.labels[idx], dtype=torch.long)\n",
    "        }"
   ]
  },
  {
   "cell_type": "code",
   "execution_count": 118,
   "metadata": {
    "id": "7GQjJxgHW-gV"
   },
   "outputs": [],
   "source": [
    "# model training function for Torch\n",
    "def train_model(model, train_dataloader, val_dataloader, epochs=3, lr=2e-5):\n",
    "    # make this model use the current device (GPU or CPU)\n",
    "    model.to(device)\n",
    "\n",
    "    # as per common with NLP tasks => optimizer is AdamW\n",
    "    optimizer = optim.AdamW(model.parameters(), lr=lr)\n",
    "\n",
    "    # our loss function is Cross Entropy\n",
    "    loss_fn = nn.CrossEntropyLoss()\n",
    "\n",
    "    # Training progress trackers for training metrics later!\n",
    "    # note: this is built-in in Keras, but not in Torch and TensorFlow Core\n",
    "    history = {'train_loss': [], 'train_acc': [], 'val_loss': [], 'val_acc': []}\n",
    "\n",
    "    # traing for as many epochs as defined\n",
    "    for epoch in range(epochs):\n",
    "        # initialize variables for this epoch\n",
    "        model.train()\n",
    "        total_loss = 0\n",
    "        correct = 0\n",
    "        total = 0\n",
    "\n",
    "        # EPOCH TRAINING - PHASE 1: train the model\n",
    "        for batch in train_dataloader:\n",
    "            optimizer.zero_grad()\n",
    "            input_ids, attention_mask, labels = batch['input_ids'].to(device), batch['attention_mask'].to(device), batch['labels'].to(device)\n",
    "            outputs = model(input_ids, attention_mask=attention_mask)\n",
    "            loss = loss_fn(outputs.logits, labels)\n",
    "            loss.backward()\n",
    "            optimizer.step()\n",
    "            total_loss += loss.item()\n",
    "            correct += (outputs.logits.argmax(dim=1) == labels).sum().item()\n",
    "            total += labels.size(0)\n",
    "\n",
    "        # keep track of current accuracy and loss for TRAINING DATA\n",
    "        history['train_acc'].append(correct / total)\n",
    "        history['train_loss'].append(total_loss / len(train_dataloader))\n",
    "        print(f\"Epoch {epoch+1}: Train Loss = {total_loss / len(train_dataloader)}, Train Accuracy = {correct / total}\")\n",
    "\n",
    "        # EPOCH VALIDATION - PHASE 2: validate this epoch\n",
    "        model.eval()\n",
    "        correct, total, total_val_loss = 0, 0, 0\n",
    "        with torch.no_grad():\n",
    "            for batch in val_dataloader:\n",
    "                input_ids, attention_mask, labels = batch['input_ids'].to(device), batch['attention_mask'].to(device), batch['labels'].to(device)\n",
    "                outputs = model(input_ids, attention_mask=attention_mask)\n",
    "                loss = loss_fn(outputs.logits, labels)\n",
    "                total_val_loss += loss.item()\n",
    "                correct += (outputs.logits.argmax(dim=1) == labels).sum().item()\n",
    "                total += labels.size(0)\n",
    "\n",
    "        # keep track of current accuracy and loss for VALIDATION DATA\n",
    "        history['val_acc'].append(correct / total)\n",
    "        history['val_loss'].append(total_val_loss / len(val_dataloader))\n",
    "\n",
    "        # this epoch's done, print the the current progress into notebook\n",
    "        print(f\"Validation Loss = {total_val_loss / len(val_dataloader)}, Validation Accuracy = {correct / total}\")\n",
    "        print(\"------------------------------------------\")\n",
    "\n",
    "    return history"
   ]
  },
  {
   "cell_type": "markdown",
   "metadata": {
    "id": "lUBB3H4sZlvM"
   },
   "source": [
    "## Step 4: Finalized and split the data and train the model"
   ]
  },
  {
   "cell_type": "code",
   "execution_count": 119,
   "metadata": {
    "id": "2xQLjDWgZpiS"
   },
   "outputs": [],
   "source": [
    "# Initialize LabelEncoder\n",
    "label_encoder = LabelEncoder()\n",
    "\n",
    "# Fit and transform the 'category' column\n",
    "df['category_encoded'] = label_encoder.fit_transform(df['catagories'])"
   ]
  },
  {
   "cell_type": "code",
   "execution_count": 120,
   "metadata": {
    "colab": {
     "base_uri": "https://localhost:8080/",
     "height": 206
    },
    "id": "REGzIY2hZ2Oz",
    "outputId": "749b71ce-c0d4-403c-f2a0-7d8ba97e1ede"
   },
   "outputs": [
    {
     "data": {
      "text/html": [
       "<div>\n",
       "<style scoped>\n",
       "    .dataframe tbody tr th:only-of-type {\n",
       "        vertical-align: middle;\n",
       "    }\n",
       "\n",
       "    .dataframe tbody tr th {\n",
       "        vertical-align: top;\n",
       "    }\n",
       "\n",
       "    .dataframe thead th {\n",
       "        text-align: right;\n",
       "    }\n",
       "</style>\n",
       "<table border=\"1\" class=\"dataframe\">\n",
       "  <thead>\n",
       "    <tr style=\"text-align: right;\">\n",
       "      <th></th>\n",
       "      <th>catagories</th>\n",
       "      <th>headlines</th>\n",
       "      <th>category_encoded</th>\n",
       "    </tr>\n",
       "  </thead>\n",
       "  <tbody>\n",
       "    <tr>\n",
       "      <th>3</th>\n",
       "      <td>Economy</td>\n",
       "      <td>IMF Loan: Govt may miss two key targets set fo...</td>\n",
       "      <td>0</td>\n",
       "    </tr>\n",
       "    <tr>\n",
       "      <th>7</th>\n",
       "      <td>Economy</td>\n",
       "      <td>BSEC ever learn missteps? - Analysts question ...</td>\n",
       "      <td>0</td>\n",
       "    </tr>\n",
       "    <tr>\n",
       "      <th>12</th>\n",
       "      <td>Economy</td>\n",
       "      <td>protect worst victims inflation? - Raises ques...</td>\n",
       "      <td>0</td>\n",
       "    </tr>\n",
       "    <tr>\n",
       "      <th>13</th>\n",
       "      <td>Economy</td>\n",
       "      <td>Familiar risks haunt Chattogram markets - Iden...</td>\n",
       "      <td>0</td>\n",
       "    </tr>\n",
       "    <tr>\n",
       "      <th>16</th>\n",
       "      <td>Economy</td>\n",
       "      <td>IMF suggestions Bangladesh - IMF provides reco...</td>\n",
       "      <td>0</td>\n",
       "    </tr>\n",
       "  </tbody>\n",
       "</table>\n",
       "</div>"
      ],
      "text/plain": [
       "   catagories                                          headlines  \\\n",
       "3     Economy  IMF Loan: Govt may miss two key targets set fo...   \n",
       "7     Economy  BSEC ever learn missteps? - Analysts question ...   \n",
       "12    Economy  protect worst victims inflation? - Raises ques...   \n",
       "13    Economy  Familiar risks haunt Chattogram markets - Iden...   \n",
       "16    Economy  IMF suggestions Bangladesh - IMF provides reco...   \n",
       "\n",
       "    category_encoded  \n",
       "3                  0  \n",
       "7                  0  \n",
       "12                 0  \n",
       "13                 0  \n",
       "16                 0  "
      ]
     },
     "execution_count": 120,
     "metadata": {},
     "output_type": "execute_result"
    }
   ],
   "source": [
    "df.head()"
   ]
  },
  {
   "cell_type": "code",
   "execution_count": 121,
   "metadata": {
    "colab": {
     "base_uri": "https://localhost:8080/"
    },
    "id": "kkWsGiftZ8Mc",
    "outputId": "9d18a929-775e-4565-ba0c-52137a2635bc"
   },
   "outputs": [
    {
     "name": "stdout",
     "output_type": "stream",
     "text": [
      "Category: Economy, Encoded: 0\n",
      "Category: Politics, Encoded: 2\n",
      "Category: Environment, Encoded: 1\n"
     ]
    }
   ],
   "source": [
    "# prompt: show all possible combinations of category and category_encoded in df\n",
    "\n",
    "for category, encoded in zip(df['catagories'].unique(), df['category_encoded'].unique()):\n",
    "  print(f\"Category: {category}, Encoded: {encoded}\")\n"
   ]
  },
  {
   "cell_type": "code",
   "execution_count": 122,
   "metadata": {
    "id": "k7fDKxF6aCM-"
   },
   "outputs": [],
   "source": [
    "# based on the result above, this is the order of labels\n",
    "# correct the labels here if needed\n",
    "TEXT_LABELS = ['Environment', 'Politics', 'Economy']"
   ]
  },
  {
   "cell_type": "code",
   "execution_count": 123,
   "metadata": {
    "id": "5ma-ycpqaYPE"
   },
   "outputs": [],
   "source": [
    "# X/y split!\n",
    "X = df['headlines']\n",
    "y = df['category_encoded']"
   ]
  },
  {
   "cell_type": "code",
   "execution_count": 124,
   "metadata": {
    "colab": {
     "base_uri": "https://localhost:8080/"
    },
    "id": "58O7ugfGc_y0",
    "outputId": "f4b4f70f-685b-4ccc-9300-a6065955a22e"
   },
   "outputs": [
    {
     "name": "stderr",
     "output_type": "stream",
     "text": [
      "Some weights of BertForSequenceClassification were not initialized from the model checkpoint at google/bert_uncased_L-2_H-128_A-2 and are newly initialized: ['classifier.bias', 'classifier.weight']\n",
      "You should probably TRAIN this model on a down-stream task to be able to use it for predictions and inference.\n"
     ]
    }
   ],
   "source": [
    "# next step, download the BERT model and the BERT tokenizer\n",
    "tokenizer = BertTokenizer.from_pretrained('google-bert/bert-base-uncased')\n",
    "model = AutoModelForSequenceClassification.from_pretrained('google/bert_uncased_L-2_H-128_A-2', num_labels=len(TEXT_LABELS))"
   ]
  },
  {
   "cell_type": "code",
   "execution_count": 125,
   "metadata": {
    "id": "uYXmmqUIaeLk"
   },
   "outputs": [],
   "source": [
    "# because of Torch datasets, the train/test -split is slightly different\n",
    "train_texts, val_texts, train_labels, val_labels = train_test_split(X, y, test_size=0.2, random_state=42)\n",
    "\n",
    "# convert series to lists\n",
    "train_texts = train_texts.tolist()\n",
    "val_texts = val_texts.tolist()\n",
    "train_labels = train_labels.tolist()\n",
    "val_labels = val_labels.tolist()\n",
    "\n",
    "# Create datasets and dataloaders\n",
    "train_dataset = TextDataset(train_texts, train_labels, tokenizer)\n",
    "val_dataset = TextDataset(val_texts, val_labels, tokenizer)\n",
    "\n",
    "# as in Image AIs => shuffle the training data, but don't shuffle the validation data\n",
    "train_dataloader = DataLoader(train_dataset, batch_size=8, shuffle=True)\n",
    "val_dataloader = DataLoader(val_dataset, batch_size=8, shuffle=False)"
   ]
  },
  {
   "cell_type": "code",
   "execution_count": 126,
   "metadata": {
    "colab": {
     "base_uri": "https://localhost:8080/"
    },
    "id": "YRwjdmXZbUYz",
    "outputId": "a41f0899-5568-4b2e-9846-c31427bd4c03"
   },
   "outputs": [
    {
     "name": "stdout",
     "output_type": "stream",
     "text": [
      "Epoch 1: Train Loss = 1.0783211719989776, Train Accuracy = 0.42385786802030456\n",
      "Validation Loss = 1.0793008391673748, Validation Accuracy = 0.3434343434343434\n",
      "------------------------------------------\n",
      "Epoch 2: Train Loss = 1.023821041584015, Train Accuracy = 0.467005076142132\n",
      "Validation Loss = 1.0315676148121173, Validation Accuracy = 0.36363636363636365\n",
      "------------------------------------------\n",
      "Epoch 3: Train Loss = 0.962317361831665, Train Accuracy = 0.5761421319796954\n",
      "Validation Loss = 0.961495422399961, Validation Accuracy = 0.5959595959595959\n",
      "------------------------------------------\n",
      "Epoch 4: Train Loss = 0.883890221118927, Train Accuracy = 0.7284263959390863\n",
      "Validation Loss = 0.8855187663665185, Validation Accuracy = 0.7575757575757576\n",
      "------------------------------------------\n",
      "Epoch 5: Train Loss = 0.8184078538417816, Train Accuracy = 0.7969543147208121\n",
      "Validation Loss = 0.8127952172205999, Validation Accuracy = 0.7676767676767676\n",
      "------------------------------------------\n",
      "Epoch 6: Train Loss = 0.747013955116272, Train Accuracy = 0.8527918781725888\n",
      "Validation Loss = 0.7596860161194434, Validation Accuracy = 0.7878787878787878\n",
      "------------------------------------------\n",
      "Epoch 7: Train Loss = 0.6863131642341613, Train Accuracy = 0.8375634517766497\n",
      "Validation Loss = 0.68940892127844, Validation Accuracy = 0.8080808080808081\n",
      "------------------------------------------\n",
      "Epoch 8: Train Loss = 0.6206542927026749, Train Accuracy = 0.883248730964467\n",
      "Validation Loss = 0.6314222789727725, Validation Accuracy = 0.8585858585858586\n",
      "------------------------------------------\n",
      "Epoch 9: Train Loss = 0.566180328130722, Train Accuracy = 0.9086294416243654\n",
      "Validation Loss = 0.5902011211101825, Validation Accuracy = 0.8484848484848485\n",
      "------------------------------------------\n",
      "Epoch 10: Train Loss = 0.5097725039720535, Train Accuracy = 0.9111675126903553\n",
      "Validation Loss = 0.5388485262027154, Validation Accuracy = 0.8787878787878788\n",
      "------------------------------------------\n",
      "Epoch 11: Train Loss = 0.468380429148674, Train Accuracy = 0.9213197969543148\n",
      "Validation Loss = 0.5010039645891923, Validation Accuracy = 0.9090909090909091\n",
      "------------------------------------------\n",
      "Epoch 12: Train Loss = 0.42938223719596863, Train Accuracy = 0.9390862944162437\n",
      "Validation Loss = 0.4623799782532912, Validation Accuracy = 0.9191919191919192\n",
      "------------------------------------------\n",
      "Epoch 13: Train Loss = 0.37900175362825395, Train Accuracy = 0.9593908629441624\n",
      "Validation Loss = 0.4295502007007599, Validation Accuracy = 0.9191919191919192\n",
      "------------------------------------------\n",
      "Epoch 14: Train Loss = 0.3453832000494003, Train Accuracy = 0.949238578680203\n",
      "Validation Loss = 0.3954456173456632, Validation Accuracy = 0.9292929292929293\n",
      "------------------------------------------\n",
      "Epoch 15: Train Loss = 0.3206953448057175, Train Accuracy = 0.9543147208121827\n",
      "Validation Loss = 0.36699330921356493, Validation Accuracy = 0.9393939393939394\n",
      "------------------------------------------\n",
      "Epoch 16: Train Loss = 0.2838942298293114, Train Accuracy = 0.9695431472081218\n",
      "Validation Loss = 0.33274601056025577, Validation Accuracy = 0.9393939393939394\n",
      "------------------------------------------\n",
      "Epoch 17: Train Loss = 0.26461490347981453, Train Accuracy = 0.9720812182741116\n",
      "Validation Loss = 0.31378680582229906, Validation Accuracy = 0.9595959595959596\n",
      "------------------------------------------\n",
      "Epoch 18: Train Loss = 0.22935838311910628, Train Accuracy = 0.9746192893401016\n",
      "Validation Loss = 0.28376561174025905, Validation Accuracy = 0.9393939393939394\n",
      "------------------------------------------\n",
      "Epoch 19: Train Loss = 0.20645182996988296, Train Accuracy = 0.9771573604060914\n",
      "Validation Loss = 0.2658328734911405, Validation Accuracy = 0.9494949494949495\n",
      "------------------------------------------\n",
      "Epoch 20: Train Loss = 0.18457720309495926, Train Accuracy = 0.9847715736040609\n",
      "Validation Loss = 0.2644183440850331, Validation Accuracy = 0.9393939393939394\n",
      "------------------------------------------\n",
      "Epoch 21: Train Loss = 0.16288568913936616, Train Accuracy = 0.9873096446700508\n",
      "Validation Loss = 0.24356546998023987, Validation Accuracy = 0.9595959595959596\n",
      "------------------------------------------\n",
      "Epoch 22: Train Loss = 0.1482812485098839, Train Accuracy = 0.9923857868020305\n",
      "Validation Loss = 0.23272094359764686, Validation Accuracy = 0.9595959595959596\n",
      "------------------------------------------\n",
      "Epoch 23: Train Loss = 0.13881682425737382, Train Accuracy = 0.9898477157360406\n",
      "Validation Loss = 0.21718550530763772, Validation Accuracy = 0.9595959595959596\n",
      "------------------------------------------\n",
      "Epoch 24: Train Loss = 0.12510356158018113, Train Accuracy = 0.9873096446700508\n",
      "Validation Loss = 0.20873479774365059, Validation Accuracy = 0.9595959595959596\n",
      "------------------------------------------\n",
      "Epoch 25: Train Loss = 0.11313912168145179, Train Accuracy = 0.9923857868020305\n",
      "Validation Loss = 0.20627361020216575, Validation Accuracy = 0.9393939393939394\n",
      "------------------------------------------\n",
      "Epoch 26: Train Loss = 0.09894070915877819, Train Accuracy = 0.9974619289340102\n",
      "Validation Loss = 0.19608467416121408, Validation Accuracy = 0.9494949494949495\n",
      "------------------------------------------\n",
      "Epoch 27: Train Loss = 0.09752534247934819, Train Accuracy = 0.9923857868020305\n",
      "Validation Loss = 0.18696637394336554, Validation Accuracy = 0.9696969696969697\n",
      "------------------------------------------\n",
      "Epoch 28: Train Loss = 0.08740159392356872, Train Accuracy = 0.9974619289340102\n",
      "Validation Loss = 0.18354696436570242, Validation Accuracy = 0.9494949494949495\n",
      "------------------------------------------\n",
      "Epoch 29: Train Loss = 0.08030317589640618, Train Accuracy = 0.9949238578680203\n",
      "Validation Loss = 0.190098103422385, Validation Accuracy = 0.9393939393939394\n",
      "------------------------------------------\n",
      "Epoch 30: Train Loss = 0.07811967238783836, Train Accuracy = 0.9949238578680203\n",
      "Validation Loss = 0.17677857325627253, Validation Accuracy = 0.9494949494949495\n",
      "------------------------------------------\n"
     ]
    }
   ],
   "source": [
    "# train the model\n",
    "history = train_model(model, train_dataloader, val_dataloader, epochs=30)"
   ]
  },
  {
   "cell_type": "markdown",
   "metadata": {
    "id": "goZ4bxIcd3tD"
   },
   "source": [
    "## Training and error metrics!"
   ]
  },
  {
   "cell_type": "code",
   "execution_count": 127,
   "metadata": {
    "colab": {
     "base_uri": "https://localhost:8080/",
     "height": 860
    },
    "id": "E3zM4Ds5cjfp",
    "outputId": "7e4feade-d883-4081-ebf0-a78e35d64330"
   },
   "outputs": [
    {
     "data": {
      "text/plain": [
       "<Axes: >"
      ]
     },
     "execution_count": 127,
     "metadata": {},
     "output_type": "execute_result"
    },
    {
     "data": {
      "image/png": "[encoded data removed]",
      "text/plain": [
       "<Figure size 640x480 with 1 Axes>"
      ]
     },
     "metadata": {},
     "output_type": "display_data"
    },
    {
     "data": {
      "image/png": "[encoded data removed]",
      "text/plain": [
       "<Figure size 640x480 with 1 Axes>"
      ]
     },
     "metadata": {},
     "output_type": "display_data"
    }
   ],
   "source": [
    "loss_df = pd.DataFrame(history)\n",
    "loss_df[['train_loss', 'val_loss']].plot()\n",
    "loss_df[['train_acc', 'val_acc']].plot()"
   ]
  },
  {
   "cell_type": "code",
   "execution_count": 128,
   "metadata": {
    "colab": {
     "base_uri": "https://localhost:8080/"
    },
    "id": "MPwNMlzZeGSG",
    "outputId": "ecd95cc5-0599-43c4-bea4-63a885a7aead"
   },
   "outputs": [
    {
     "name": "stdout",
     "output_type": "stream",
     "text": [
      "              precision    recall  f1-score   support\n",
      "\n",
      "           0       0.87      0.96      0.92        28\n",
      "           1       0.97      1.00      0.99        33\n",
      "           2       1.00      0.89      0.94        38\n",
      "\n",
      "    accuracy                           0.95        99\n",
      "   macro avg       0.95      0.95      0.95        99\n",
      "weighted avg       0.95      0.95      0.95        99\n",
      "\n"
     ]
    }
   ],
   "source": [
    "# we need to process the data in batches in Torch in order to\n",
    "# the true values and the matching predictions\n",
    "\n",
    "model.eval()\n",
    "y_true = []\n",
    "y_pred = []\n",
    "\n",
    "# process through testing dataset and collect true and prediction values for metrics\n",
    "with torch.no_grad():\n",
    "    for batch in val_dataloader:\n",
    "        input_ids, attention_mask, labels = batch['input_ids'].to(device), batch['attention_mask'].to(device), batch['labels'].to(device)\n",
    "        outputs = model(input_ids, attention_mask=attention_mask)\n",
    "        y_true.extend(labels.cpu().numpy())\n",
    "        y_pred.extend(outputs.logits.argmax(dim=1).cpu().numpy())\n",
    "\n",
    "# classification report\n",
    "print(classification_report(y_true, y_pred))"
   ]
  },
  {
   "cell_type": "code",
   "execution_count": null,
   "metadata": {
    "colab": {
     "base_uri": "https://localhost:8080/",
     "height": 447
    },
    "id": "YRnt5Ne2ed3q",
    "outputId": "3867cbdf-8422-42c9-e619-bcdc24db53a2"
   },
   "outputs": [
    {
     "data": {
      "text/plain": [
       "<Axes: >"
      ]
     },
     "execution_count": 129,
     "metadata": {},
     "output_type": "execute_result"
    },
    {
     "data": {
      "image/png": "[encoded data removed]",
      "text/plain": [
       "<Figure size 640x480 with 2 Axes>"
      ]
     },
     "metadata": {},
     "output_type": "display_data"
    }
   ],
   "source": [
    "sns.heatmap(confusion_matrix(y_true, y_pred), annot=True, fmt='g',\n",
    "            xticklabels=TEXT_LABELS, yticklabels=TEXT_LABELS)\n"
   ]
  },
  {
   "cell_type": "code",
   "execution_count": 130,
   "metadata": {
    "colab": {
     "base_uri": "https://localhost:8080/"
    },
    "id": "Zhl_fLF2faJD",
    "outputId": "f34b2cdf-aa96-4a51-eac3-f924934da490"
   },
   "outputs": [
    {
     "name": "stdout",
     "output_type": "stream",
     "text": [
      "ROC AUC: 0.9645888355117412\n"
     ]
    }
   ],
   "source": [
    " # get one-hot representation of y_true and y_pred \n",
    "y_true_onehot = pd.get_dummies(y_true).values\n",
    "y_pred_onehot = pd.get_dummies(y_pred).values\n",
    "\n",
    "print(f\"ROC AUC: {roc_auc_score(y_true_onehot, y_pred_onehot, multi_class='ovr')}\")"
   ]
  },
  {
   "cell_type": "code",
   "execution_count": 131,
   "metadata": {
    "colab": {
     "base_uri": "https://localhost:8080/"
    },
    "id": "jW-HeWNLfaVq",
    "outputId": "441647b8-61a2-4fe2-8545-14e7dba8f74f"
   },
   "outputs": [
    {
     "name": "stdout",
     "output_type": "stream",
     "text": [
      "Sample text: Timothee Chalamet and Demi Moore among winners at SAG Awards - a major Oscars predictor\n",
      "Predicted sentiment: Economy\n",
      "\n",
      "Predictions for each label:\n",
      "\n",
      "['Environment', 'Politics', 'Economy']\n",
      "['0.064516', '0.016860', '0.918623']\n"
     ]
    }
   ],
   "source": [
    "# test the model\n",
    "model.eval()\n",
    "\n",
    "# our example news headline\n",
    "sample = \"Leaders gather for an Economy Technology  to address the challenges of climate change, discussing strategies for mitigation, adaptation, and global cooperation.\"\n",
    "sample = \"Timothee Chalamet and Demi Moore among winners at SAG Awards - a major Oscars predictor\"\n",
    "\n",
    "# process the text so it can be put through the model\n",
    "encoding = tokenizer(sample, truncation=True, padding='max_length', max_length=512, return_tensors='pt')\n",
    "input_ids = encoding['input_ids'].to(device)\n",
    "attention_mask = encoding['attention_mask'].to(device)\n",
    "outputs = model(input_ids, attention_mask=attention_mask)\n",
    "label = outputs.logits.argmax(dim=1).item()\n",
    "\n",
    "# logits don't work similarly as probabilities (0-100%)\n",
    "# it's more like => whatever is the biggest value => prediction\n",
    "# similar values might imply problems though\n",
    "# basically this is the format without softmax\n",
    "\n",
    "print(f\"Sample text: {sample}\")\n",
    "print(f\"Predicted sentiment: {TEXT_LABELS[label]}\")\n",
    "\n",
    "# convert the raw logits into probabilities / softmax\n",
    "probs = torch.nn.functional.softmax(outputs.logits, dim=1)\n",
    "\n",
    "# convert the scientific format into decimal format\n",
    "formatted_probs = [f\"{p:.6f}\" for p in probs.cpu().squeeze().tolist()]\n",
    "\n",
    "# Print formatted probabilities\n",
    "print()\n",
    "print(\"Predictions for each label:\\n\")\n",
    "print(TEXT_LABELS)\n",
    "print(formatted_probs)"
   ]
  }
 ],
 "metadata": {
  "accelerator": "GPU",
  "colab": {
   "gpuType": "T4",
   "provenance": []
  },
  "kernelspec": {
   "display_name": "Python 3",
   "name": "python3"
  },
  "language_info": {
   "codemirror_mode": {
    "name": "ipython",
    "version": 3
   },
   "file_extension": ".py",
   "mimetype": "text/x-python",
   "name": "python",
   "nbconvert_exporter": "python",
   "pygments_lexer": "ipython3",
   "version": "3.10.11"
  }
 },
 "nbformat": 4,
 "nbformat_minor": 0
}

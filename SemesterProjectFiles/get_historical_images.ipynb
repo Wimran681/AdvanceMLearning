{
 "cells": [
  {
   "cell_type": "code",
   "execution_count": 11,
   "metadata": {},
   "outputs": [],
   "source": [
    "# In case with camera data we have to iterate back with 10 minute intervals from the current timestamp\n",
    "\n",
    "import requests\n",
    "import time\n",
    "import json\n",
    "import os\n",
    "\n",
    "req_header = {\"apiToken\":\"f8966829-616a-4e45-aa26-ab2de0d42515\"}"
   ]
  },
  {
   "cell_type": "code",
   "execution_count": 12,
   "metadata": {},
   "outputs": [
    {
     "data": {
      "text/plain": [
       "[{'name': 'VT4 Jyväskylä Vaajakoski',\n",
       "  'lat': 61.99935656434613,\n",
       "  'lon': 25.500450069798536,\n",
       "  'variants': [{'name': 'Jyväskylään', 'id': 'C0951002'}]},\n",
       " {'name': 'VT9 Jyväskylä Pumperi',\n",
       "  'lat': 62.29026582544774,\n",
       "  'lon': 25.72040656942994,\n",
       "  'variants': [{'name': 'Jyäskylään', 'id': 'C0951101'},\n",
       "   {'name': 'Jämsään', 'id': 'C0951102'},\n",
       "   {'name': 'Keljonkankaantie', 'id': 'C0951103'},\n",
       "   {'name': 'Maisema', 'id': 'C0951106'},\n",
       "   {'name': 'Tienpinta', 'id': 'C0951109'}]},\n",
       " {'name': 'VT4 Jyväskylä Puuppola',\n",
       "  'lat': 62.341198537154966,\n",
       "  'lon': 25.70431603797372,\n",
       "  'variants': [{'name': 'Ouluun', 'id': 'C0951501'},\n",
       "   {'name': 'Jyäskylään', 'id': 'C0951502'},\n",
       "   {'name': 'Tienpinta', 'id': 'C0951509'}]},\n",
       " {'name': 'VT4 Jyväskylä Palokka',\n",
       "  'lat': 62.21160305771549,\n",
       "  'lon': 25.720218341690536,\n",
       "  'variants': [{'name': 'Ouluun', 'id': 'C0952001'},\n",
       "   {'name': 'Jyäskylään', 'id': 'C0952002'},\n",
       "   {'name': 'Palokka', 'id': 'C0952003'},\n",
       "   {'name': 'Laajavuori', 'id': 'C0952004'},\n",
       "   {'name': 'Tienpinta', 'id': 'C0952009'}]},\n",
       " {'name': 'VT9 Jyväskylä Korpilahti',\n",
       "  'lat': 62.24574787926557,\n",
       "  'lon': 25.8716920623948,\n",
       "  'variants': [{'name': 'Jyväskylään', 'id': 'C0953101'},\n",
       "   {'name': 'Tampereelle', 'id': 'C0953102'},\n",
       "   {'name': 'Maisema', 'id': 'C0953108'},\n",
       "   {'name': 'Tienpinta', 'id': 'C0953109'}]},\n",
       " {'name': 'ST624 Jyväskylä Tikka-Mannila',\n",
       "  'lat': 62.371292,\n",
       "  'lon': 25.705434,\n",
       "  'variants': [{'name': 'Ouluun', 'id': 'C0953201'},\n",
       "   {'name': 'Jyväskylään', 'id': 'C0953202'},\n",
       "   {'name': 'Tienpinta', 'id': 'C0953209'}]},\n",
       " {'name': 'Marjetas Cam - Keskussairaalantie',\n",
       "  'lat': 62.23294562816923,\n",
       "  'lon': 25.718373219893543,\n",
       "  'variants': [{'id': '999', 'name': 'Pääsuunta'}]}]"
      ]
     },
     "execution_count": 12,
     "metadata": {},
     "output_type": "execute_result"
    }
   ],
   "source": [
    "# get the camera list\n",
    "\n",
    "url = \" https://infraweb-rws.fi/infralink/cams/camlist\"\n",
    "response = requests.get(url, headers=req_header)\n",
    "response.json()"
   ]
  },
  {
   "cell_type": "code",
   "execution_count": 13,
   "metadata": {},
   "outputs": [
    {
     "data": {
      "text/plain": [
       "{'name': 'VT4 Jyväskylä Vaajakoski',\n",
       " 'lat': 61.99935656434613,\n",
       " 'lon': 25.500450069798536,\n",
       " 'variants': [{'name': 'Jyväskylään', 'id': 'C0951002'}]}"
      ]
     },
     "execution_count": 13,
     "metadata": {},
     "output_type": "execute_result"
    }
   ],
   "source": [
    "# test camera index 0\n",
    "camera_index = 0\n",
    "\n",
    "cam_data = response.json()[camera_index]\n",
    "cam_data"
   ]
  },
  {
   "cell_type": "code",
   "execution_count": 14,
   "metadata": {},
   "outputs": [],
   "source": [
    "# we can have multiple variants depending on the direction, let's only test one\n",
    "\n",
    "cam_id = cam_data['variants'][0]['id']"
   ]
  },
  {
   "cell_type": "code",
   "execution_count": 15,
   "metadata": {},
   "outputs": [
    {
     "data": {
      "text/plain": [
       "[['2025-03-31T08:54:55.513868', 1743400495000],\n",
       " ['2025-03-31T07:54:55.513868', 1743396895000],\n",
       " ['2025-03-31T06:54:55.513868', 1743393295000],\n",
       " ['2025-03-31T05:54:55.513868', 1743389695000],\n",
       " ['2025-03-31T04:54:55.513868', 1743386095000],\n",
       " ['2025-03-31T03:54:55.513868', 1743382495000],\n",
       " ['2025-03-31T02:54:55.513868', 1743378895000],\n",
       " ['2025-03-31T01:54:55.513868', 1743375295000],\n",
       " ['2025-03-31T00:54:55.513868', 1743371695000],\n",
       " ['2025-03-30T23:54:55.513868', 1743368095000]]"
      ]
     },
     "execution_count": 15,
     "metadata": {},
     "output_type": "execute_result"
    }
   ],
   "source": [
    "# get the latest image list for the timestamp\n",
    "url = f\"https://infraweb-rws.fi/infralink/cams/imglist/?id={cam_id}\"\n",
    "\n",
    "response = requests.get(url, headers=req_header)\n",
    "response.json()"
   ]
  },
  {
   "cell_type": "code",
   "execution_count": 16,
   "metadata": {},
   "outputs": [
    {
     "data": {
      "text/plain": [
       "1743368095000"
      ]
     },
     "execution_count": 16,
     "metadata": {},
     "output_type": "execute_result"
    }
   ],
   "source": [
    "latest_ts = response.json()[-1][1]\n",
    "latest_ts"
   ]
  },
  {
   "cell_type": "code",
   "execution_count": 31,
   "metadata": {},
   "outputs": [],
   "source": [
    "interval = 600000 # 10 minutes\n",
    "# for a month worth of data\n",
    "num_timestamps = 30 * 24 * 60 * 60 * 1000 // interval\n",
    "\n",
    "timestamps = [latest_ts - i * interval for i in range(0, num_timestamps)]\n"
   ]
  },
  {
   "cell_type": "code",
   "execution_count": 32,
   "metadata": {},
   "outputs": [],
   "source": [
    "# make directory for the images if it does not exist\n",
    "path = f'images/{cam_id}'\n",
    "if not os.path.exists(path):\n",
    "    os.makedirs(path)"
   ]
  },
  {
   "cell_type": "code",
   "execution_count": null,
   "metadata": {},
   "outputs": [],
   "source": [
    "# we can use batch requests to speed up the process\n"
   ]
  },
  {
   "cell_type": "code",
   "execution_count": 33,
   "metadata": {},
   "outputs": [],
   "source": [
    "from concurrent.futures import ThreadPoolExecutor"
   ]
  },
  {
   "cell_type": "code",
   "execution_count": 34,
   "metadata": {},
   "outputs": [],
   "source": [
    "# iterate through the timestamps and download the images\n",
    "\n",
    "url = f\"https://infraweb-rws.fi/infralink/cams/img?id={cam_id}&ts=\"\n",
    "\n",
    "urls = [url + str(ts) for ts in timestamps]\n",
    "\n",
    "        "
   ]
  },
  {
   "cell_type": "code",
   "execution_count": 30,
   "metadata": {},
   "outputs": [],
   "source": [
    "batch_size = 100\n",
    "\n",
    "test_urls = urls[:batch_size]\n",
    "# test the first 10 urls\n",
    "\n",
    "def fetch_image(url):\n",
    "    response = requests.get(url, headers=req_header)\n",
    "    if response.status_code == 200:\n",
    "        return response.content\n",
    "    else:\n",
    "        return None\n",
    "    \n",
    "# download the images\n",
    "with ThreadPoolExecutor(max_workers=batch_size) as executor:\n",
    "    responses = list(executor.map(fetch_image, test_urls))\n",
    "\n",
    "# save the images\n",
    "for image, url in zip(responses, test_urls):\n",
    "    if image is not None:\n",
    "        # get the timestamp from the url\n",
    "        ts = url.split('=')[-1]\n",
    "        # convert the timestamp to a readable format\n",
    "        ts = time.strftime('%Y-%m-%d_%H-%M-%S', time.localtime(int(ts) / 1000))\n",
    "        # save the image\n",
    "        with open(f'{path}/{ts}.jpg', 'wb') as f:\n",
    "            f.write(image)"
   ]
  },
  {
   "cell_type": "code",
   "execution_count": 35,
   "metadata": {},
   "outputs": [],
   "source": [
    "# full loop\n",
    "for i in range(0, len(urls), batch_size):\n",
    "    # get the batch of urls\n",
    "    batch_urls = urls[i:i + batch_size]\n",
    "    # download the images\n",
    "    with ThreadPoolExecutor(max_workers=batch_size) as executor:\n",
    "        responses = list(executor.map(fetch_image, batch_urls))\n",
    "    # save the images\n",
    "    for image, url in zip(responses, batch_urls):\n",
    "        if image is not None:\n",
    "            # get the timestamp from the url\n",
    "            ts = url.split('=')[-1]\n",
    "            # convert the timestamp to a readable format\n",
    "            ts = time.strftime('%Y-%m-%d_%H-%M-%S', time.localtime(int(ts) / 1000))\n",
    "            # save the image\n",
    "            with open(f'{path}/{ts}.jpg', 'wb') as f:\n",
    "                f.write(image)"
   ]
  }
 ],
 "metadata": {
  "kernelspec": {
   "display_name": ".venv (3.11.2)",
   "language": "python",
   "name": "python3"
  },
  "language_info": {
   "codemirror_mode": {
    "name": "ipython",
    "version": 3
   },
   "file_extension": ".py",
   "mimetype": "text/x-python",
   "name": "python",
   "nbconvert_exporter": "python",
   "pygments_lexer": "ipython3",
   "version": "3.11.2"
  }
 },
 "nbformat": 4,
 "nbformat_minor": 2
}
